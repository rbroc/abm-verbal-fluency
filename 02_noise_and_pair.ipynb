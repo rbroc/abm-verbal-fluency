{
 "cells": [
  {
   "cell_type": "markdown",
   "metadata": {},
   "source": [
    "# Create agents and pairs\n",
    "Create noised version of the reference matrix and pair up individual agents."
   ]
  },
  {
   "cell_type": "code",
   "execution_count": 1,
   "metadata": {},
   "outputs": [],
   "source": [
    "import glob\n",
    "from diversity_abm.utils import compute_thresholds\n",
    "from diversity_abm.agents import Agent\n",
    "import itertools\n",
    "from sklearn.metrics.pairwise import euclidean_distances\n",
    "from sklearn.preprocessing import MinMaxScaler\n",
    "import pandas as pd\n",
    "import seaborn as sns\n",
    "from matplotlib import pyplot as plt\n",
    "import numpy as np\n",
    "from multiprocessing import Pool\n",
    "from sklearn import decomposition\n",
    "from pathlib import Path"
   ]
  },
  {
   "cell_type": "markdown",
   "metadata": {},
   "source": [
    "Set hyperparameters and useful variables"
   ]
  },
  {
   "cell_type": "code",
   "execution_count": 2,
   "metadata": {},
   "outputs": [],
   "source": [
    "space = 'wiki'\n",
    "model_path = 'diversity_abm/models'\n",
    "bins = 15\n",
    "agents_per_bin = 100\n",
    "date = '12_02_23'"
   ]
  },
  {
   "cell_type": "markdown",
   "metadata": {},
   "source": [
    "Get animal names, and distance thresholds"
   ]
  },
  {
   "cell_type": "code",
   "execution_count": 3,
   "metadata": {},
   "outputs": [],
   "source": [
    "models = [f'{model_path}/{space}_euclidean_distance.tsv']\n",
    "animals = pd.read_csv(f'{model_path}/animal_list.csv')\n",
    "animals_idx_dict = dict(zip(animals['Animals'].tolist(),\n",
    "                        list(range(len(animals)))))\n",
    "thresholds = compute_thresholds(models, \n",
    "                                q=[round(n,2) for n in np.arange(0.05, 1.0, 0.05)], \n",
    "                                round_at=5)"
   ]
  },
  {
   "cell_type": "markdown",
   "metadata": {},
   "source": [
    "Import the vector space and scale it."
   ]
  },
  {
   "cell_type": "code",
   "execution_count": 4,
   "metadata": {},
   "outputs": [],
   "source": [
    "vecs = pd.read_csv(f'{model_path}/{space}_vectors.tsv',\n",
    "                   sep='\\t', index_col=0, header=None)\n",
    "vecs_scaled = MinMaxScaler().fit_transform(vecs).round(5)"
   ]
  },
  {
   "cell_type": "markdown",
   "metadata": {},
   "source": [
    "Import distance matrix, convert distances to long format, cut into quantiles."
   ]
  },
  {
   "cell_type": "code",
   "execution_count": 5,
   "metadata": {},
   "outputs": [],
   "source": [
    "dists = pd.read_csv(models[0], sep='\\t', index_col=0)\n",
    "dists.values[np.tril_indices(dists.values.shape[0], 0)] = np.nan\n",
    "long_dists = pd.melt(dists.reset_index(), id_vars='index').dropna()\n",
    "long_dists.columns = ['animal_1', 'animal_2', 'distance']\n",
    "long_dists['distance_qbins'] = pd.qcut(long_dists.distance, \n",
    "                                       bins,\n",
    "                                       labels=range(bins)).astype(float)\n",
    "long_dists['distance_bins'] = pd.cut(long_dists.distance, \n",
    "                                     bins,\n",
    "                                     labels=range(bins)).astype(float)"
   ]
  },
  {
   "cell_type": "code",
   "execution_count": 6,
   "metadata": {},
   "outputs": [],
   "source": [
    "categories = pd.cut(long_dists.distance, bins, retbins=True, labels=range(bins))[1]"
   ]
  },
  {
   "cell_type": "code",
   "execution_count": 7,
   "metadata": {},
   "outputs": [
    {
     "data": {
      "text/html": [
       "<div>\n",
       "<style scoped>\n",
       "    .dataframe tbody tr th:only-of-type {\n",
       "        vertical-align: middle;\n",
       "    }\n",
       "\n",
       "    .dataframe tbody tr th {\n",
       "        vertical-align: top;\n",
       "    }\n",
       "\n",
       "    .dataframe thead th {\n",
       "        text-align: right;\n",
       "    }\n",
       "</style>\n",
       "<table border=\"1\" class=\"dataframe\">\n",
       "  <thead>\n",
       "    <tr style=\"text-align: right;\">\n",
       "      <th></th>\n",
       "      <th>animal_1</th>\n",
       "      <th>animal_2</th>\n",
       "      <th>distance</th>\n",
       "      <th>distance_qbins</th>\n",
       "    </tr>\n",
       "    <tr>\n",
       "      <th>distance_bins</th>\n",
       "      <th></th>\n",
       "      <th></th>\n",
       "      <th></th>\n",
       "      <th></th>\n",
       "    </tr>\n",
       "  </thead>\n",
       "  <tbody>\n",
       "    <tr>\n",
       "      <th>0.0</th>\n",
       "      <td>10</td>\n",
       "      <td>10</td>\n",
       "      <td>10</td>\n",
       "      <td>10</td>\n",
       "    </tr>\n",
       "    <tr>\n",
       "      <th>1.0</th>\n",
       "      <td>15</td>\n",
       "      <td>15</td>\n",
       "      <td>15</td>\n",
       "      <td>15</td>\n",
       "    </tr>\n",
       "    <tr>\n",
       "      <th>2.0</th>\n",
       "      <td>43</td>\n",
       "      <td>43</td>\n",
       "      <td>43</td>\n",
       "      <td>43</td>\n",
       "    </tr>\n",
       "    <tr>\n",
       "      <th>3.0</th>\n",
       "      <td>100</td>\n",
       "      <td>100</td>\n",
       "      <td>100</td>\n",
       "      <td>100</td>\n",
       "    </tr>\n",
       "    <tr>\n",
       "      <th>4.0</th>\n",
       "      <td>295</td>\n",
       "      <td>295</td>\n",
       "      <td>295</td>\n",
       "      <td>295</td>\n",
       "    </tr>\n",
       "    <tr>\n",
       "      <th>5.0</th>\n",
       "      <td>859</td>\n",
       "      <td>859</td>\n",
       "      <td>859</td>\n",
       "      <td>859</td>\n",
       "    </tr>\n",
       "    <tr>\n",
       "      <th>6.0</th>\n",
       "      <td>1814</td>\n",
       "      <td>1814</td>\n",
       "      <td>1814</td>\n",
       "      <td>1814</td>\n",
       "    </tr>\n",
       "    <tr>\n",
       "      <th>7.0</th>\n",
       "      <td>3679</td>\n",
       "      <td>3679</td>\n",
       "      <td>3679</td>\n",
       "      <td>3679</td>\n",
       "    </tr>\n",
       "    <tr>\n",
       "      <th>8.0</th>\n",
       "      <td>5734</td>\n",
       "      <td>5734</td>\n",
       "      <td>5734</td>\n",
       "      <td>5734</td>\n",
       "    </tr>\n",
       "    <tr>\n",
       "      <th>9.0</th>\n",
       "      <td>6860</td>\n",
       "      <td>6860</td>\n",
       "      <td>6860</td>\n",
       "      <td>6860</td>\n",
       "    </tr>\n",
       "    <tr>\n",
       "      <th>10.0</th>\n",
       "      <td>5890</td>\n",
       "      <td>5890</td>\n",
       "      <td>5890</td>\n",
       "      <td>5890</td>\n",
       "    </tr>\n",
       "    <tr>\n",
       "      <th>11.0</th>\n",
       "      <td>2670</td>\n",
       "      <td>2670</td>\n",
       "      <td>2670</td>\n",
       "      <td>2670</td>\n",
       "    </tr>\n",
       "    <tr>\n",
       "      <th>12.0</th>\n",
       "      <td>648</td>\n",
       "      <td>648</td>\n",
       "      <td>648</td>\n",
       "      <td>648</td>\n",
       "    </tr>\n",
       "    <tr>\n",
       "      <th>13.0</th>\n",
       "      <td>61</td>\n",
       "      <td>61</td>\n",
       "      <td>61</td>\n",
       "      <td>61</td>\n",
       "    </tr>\n",
       "    <tr>\n",
       "      <th>14.0</th>\n",
       "      <td>2</td>\n",
       "      <td>2</td>\n",
       "      <td>2</td>\n",
       "      <td>2</td>\n",
       "    </tr>\n",
       "  </tbody>\n",
       "</table>\n",
       "</div>"
      ],
      "text/plain": [
       "               animal_1  animal_2  distance  distance_qbins\n",
       "distance_bins                                              \n",
       "0.0                  10        10        10              10\n",
       "1.0                  15        15        15              15\n",
       "2.0                  43        43        43              43\n",
       "3.0                 100       100       100             100\n",
       "4.0                 295       295       295             295\n",
       "5.0                 859       859       859             859\n",
       "6.0                1814      1814      1814            1814\n",
       "7.0                3679      3679      3679            3679\n",
       "8.0                5734      5734      5734            5734\n",
       "9.0                6860      6860      6860            6860\n",
       "10.0               5890      5890      5890            5890\n",
       "11.0               2670      2670      2670            2670\n",
       "12.0                648       648       648             648\n",
       "13.0                 61        61        61              61\n",
       "14.0                  2         2         2               2"
      ]
     },
     "execution_count": 7,
     "metadata": {},
     "output_type": "execute_result"
    }
   ],
   "source": [
    "long_dists.groupby('distance_bins').count()"
   ]
  },
  {
   "cell_type": "code",
   "execution_count": 8,
   "metadata": {},
   "outputs": [
    {
     "data": {
      "image/png": "[encoded data removed]",
      "text/plain": [
       "<Figure size 720x216 with 1 Axes>"
      ]
     },
     "metadata": {
      "needs_background": "light"
     },
     "output_type": "display_data"
    }
   ],
   "source": [
    "fig, ax = plt.subplots(figsize=(10,3))\n",
    "for idx, c in enumerate(categories[1:]):\n",
    "    plt.axvline(c, linestyle='--', color='darkgrey')\n",
    "    plt.annotate(f'$s_{{{idx}}}$', \n",
    "                 xy=(c-0.0002,1900), xycoords='data', \n",
    "                 rotation=90, fontsize=10)\n",
    "sns.histplot(long_dists.distance)\n",
    "plt.ylim(0,2100)\n",
    "plt.xlabel('Distance between vector pairs: $d(x,y)$')\n",
    "plt.show()"
   ]
  },
  {
   "cell_type": "markdown",
   "metadata": {},
   "source": [
    "Now let's create a number of agents for each \"noise level\": for each quantile, we swap the position in the vector space of each pair of animals whose distance is below that quantile. <br> To introduce diversity between agents, we change the order in which the swapping is performed."
   ]
  },
  {
   "cell_type": "code",
   "execution_count": 9,
   "metadata": {},
   "outputs": [],
   "source": [
    "for p in ['noised_vectors', 'noised_distance_matrices', 'mappings']:\n",
    "    opath = Path(model_path) / date / p\n",
    "    opath.mkdir(parents=True, exist_ok=True)"
   ]
  },
  {
   "cell_type": "markdown",
   "metadata": {},
   "source": [
    "#### Generate agents"
   ]
  },
  {
   "cell_type": "code",
   "execution_count": 10,
   "metadata": {},
   "outputs": [
    {
     "name": "stdout",
     "output_type": "stream",
     "text": [
      "Processing bin 1 of 15\n",
      "Processing bin 2 of 15\n",
      "Processing bin 3 of 15\n",
      "Processing bin 4 of 15\n",
      "Processing bin 5 of 15\n",
      "Processing bin 6 of 15\n",
      "Processing bin 7 of 15\n",
      "Processing bin 8 of 15\n",
      "Processing bin 9 of 15\n",
      "Processing bin 10 of 15\n",
      "Processing bin 11 of 15\n",
      "Processing bin 12 of 15\n",
      "Processing bin 13 of 15\n",
      "Processing bin 14 of 15\n",
      "Processing bin 15 of 15\n"
     ]
    }
   ],
   "source": [
    "noised_dists = []\n",
    "noised_vecs = []\n",
    "\n",
    "for b in range(bins):\n",
    "    print(f'Processing bin {b+1} of {bins}')\n",
    "    bin_df = long_dists[(long_dists['distance_bins'] <= b)]\n",
    "\n",
    "    for a_idx in range(agents_per_bin):\n",
    "\n",
    "        subthr_pairs = list(bin_df.sample(frac=.7)[['animal_1',\n",
    "                                                   'animal_2']].to_records(index=False))\n",
    "        \n",
    "        #print(len(subthr_pairs))\n",
    "        idx_dict_copy = animals_idx_dict.copy()\n",
    "        for animal_1, animal_2 in subthr_pairs:\n",
    "            idx_1 = idx_dict_copy[animal_1]\n",
    "            idx_2 = idx_dict_copy[animal_2]\n",
    "            idx_dict_copy[animal_1] = idx_2\n",
    "            idx_dict_copy[animal_2] = idx_1\n",
    "        new_idx = dict(sorted(idx_dict_copy.items(), \n",
    "                              key=lambda item: item[1])).keys()\n",
    "\n",
    "        # Make and save vecs\n",
    "        fname = f'{space}_{b}_{a_idx}.tsv'\n",
    "        agent_vec_df = pd.DataFrame(vecs_scaled.copy()) \n",
    "        agent_vec_df.index = new_idx\n",
    "        agent_vec_df = agent_vec_df.reindex(animals_idx_dict.keys())\n",
    "        noised_vecs.append((a_idx, b, agent_vec_df))\n",
    "\n",
    "        # Make and save distances\n",
    "        agent_dist = euclidean_distances(agent_vec_df.values, \n",
    "                                         agent_vec_df.values) / 400\n",
    "        agent_dist_df = pd.DataFrame(agent_dist.round(5))\n",
    "        agent_dist_df.index = agent_vec_df.index\n",
    "        agent_dist_df.columns = agent_dist_df.index\n",
    "        noised_dists.append((a_idx, b, agent_dist_df))"
   ]
  },
  {
   "cell_type": "markdown",
   "metadata": {},
   "source": [
    "## Create pairs"
   ]
  },
  {
   "cell_type": "markdown",
   "metadata": {},
   "source": [
    "Define function to compute distances"
   ]
  },
  {
   "cell_type": "code",
   "execution_count": 11,
   "metadata": {
    "tags": []
   },
   "outputs": [],
   "source": [
    "def _compute_distance(pair):\n",
    "    ''' Computes distance between pair of agents '''\n",
    "    distance = np.mean(np.sqrt(np.sum(np.square(pair[0][2] - pair[1][2]), axis=1)))\n",
    "    noise_level1 = pair[0][1]\n",
    "    noise_level2 = pair[1][1]\n",
    "    idx1 = pair[0][0]\n",
    "    idx2 = pair[1][0]\n",
    "    return (idx1, idx2,\n",
    "            noise_level1, noise_level2,\n",
    "            distance)"
   ]
  },
  {
   "cell_type": "markdown",
   "metadata": {},
   "source": [
    "Compute distances between all pairs of agents"
   ]
  },
  {
   "cell_type": "code",
   "execution_count": 12,
   "metadata": {},
   "outputs": [
    {
     "name": "stdout",
     "output_type": "stream",
     "text": [
      "Bin 0\n",
      "Bin 1\n",
      "Bin 2\n",
      "Bin 3\n",
      "Bin 4\n",
      "Bin 5\n",
      "Bin 6\n",
      "Bin 7\n",
      "Bin 8\n",
      "Bin 9\n",
      "Bin 10\n",
      "Bin 11\n",
      "Bin 12\n",
      "Bin 13\n",
      "Bin 14\n"
     ]
    }
   ],
   "source": [
    "pair_dists = {}\n",
    "for b in range(bins):\n",
    "    print(f'Bin {b}')\n",
    "    ref_vecs = [nv for nv in noised_vecs if nv[1] == 0]\n",
    "    b_vecs = [nv for nv in noised_vecs if nv[1] == b]\n",
    "    b_combs = list(itertools.product(b_vecs, ref_vecs))\n",
    "    pool = Pool(processes=30)\n",
    "    b_dists = pool.map(_compute_distance, b_combs)\n",
    "    pair_dists[b] = b_dists\n",
    "    pool.close()"
   ]
  },
  {
   "cell_type": "code",
   "execution_count": 13,
   "metadata": {},
   "outputs": [],
   "source": [
    "dmeans = []\n",
    "for nl, vals in pair_dists.items():\n",
    "    dmeans.append(np.mean([v[-1] for v in vals]))"
   ]
  },
  {
   "cell_type": "code",
   "execution_count": 14,
   "metadata": {},
   "outputs": [
    {
     "data": {
      "image/png": "[encoded data removed]",
      "text/plain": [
       "<Figure size 432x288 with 1 Axes>"
      ]
     },
     "metadata": {
      "needs_background": "light"
     },
     "output_type": "display_data"
    }
   ],
   "source": [
    "sns.scatterplot(x=categories[1:], y=dmeans)\n",
    "plt.show()"
   ]
  },
  {
   "cell_type": "code",
   "execution_count": 15,
   "metadata": {},
   "outputs": [
    {
     "data": {
      "text/plain": [
       "<matplotlib.legend.Legend at 0x7f9329ec0e80>"
      ]
     },
     "execution_count": 15,
     "metadata": {},
     "output_type": "execute_result"
    },
    {
     "data": {
      "image/png": "[encoded data removed]",
      "text/plain": [
       "<Figure size 432x288 with 1 Axes>"
      ]
     },
     "metadata": {
      "needs_background": "light"
     },
     "output_type": "display_data"
    }
   ],
   "source": [
    "from scipy.optimize import curve_fit\n",
    "def logifunc(x,A,x0,k,off):\n",
    "    return A / (1 + np.exp(-k*(x-x0)))+off\n",
    "popt, pcov = curve_fit(logifunc, categories[1:], dmeans)\n",
    "plt.scatter(categories[1:], dmeans, label='Original sampled values')\n",
    "plt.plot(categories[1:], logifunc(categories[1:], *popt), '-',label='Fitted function', alpha=.5)\n",
    "plt.xlabel('swapping thresholds')\n",
    "plt.ylabel('average distance between $A_{s}$ and $A_{0}$')\n",
    "plt.legend()"
   ]
  },
  {
   "cell_type": "code",
   "execution_count": 16,
   "metadata": {},
   "outputs": [],
   "source": [
    "def rev_logifunc(y,A,x0,k,off):\n",
    "    return x0 - (np.log(A/(y-off) - 1) / k)"
   ]
  },
  {
   "cell_type": "code",
   "execution_count": 17,
   "metadata": {},
   "outputs": [],
   "source": [
    "A=popt[0]; x0=popt[1]; k=popt[2]; off=popt[3]\n",
    "agent_distances = np.linspace(np.min(dmeans)+0.1, np.max(dmeans), num=20)\n",
    "animal_distances = [rev_logifunc(y,A,x0,k,off) for y in list(agent_distances)]"
   ]
  },
  {
   "cell_type": "code",
   "execution_count": 18,
   "metadata": {},
   "outputs": [
    {
     "data": {
      "text/plain": [
       "(5.014, 0.01, 1920.46, 0.07)"
      ]
     },
     "execution_count": 18,
     "metadata": {},
     "output_type": "execute_result"
    }
   ],
   "source": [
    "A.round(3), x0.round(2), k.round(2), off.round(2)"
   ]
  },
  {
   "cell_type": "code",
   "execution_count": 19,
   "metadata": {},
   "outputs": [
    {
     "data": {
      "text/plain": [
       "<matplotlib.legend.Legend at 0x7f9329dd7460>"
      ]
     },
     "execution_count": 19,
     "metadata": {},
     "output_type": "execute_result"
    },
    {
     "data": {
      "image/png": "[encoded data removed]",
      "text/plain": [
       "<Figure size 432x288 with 1 Axes>"
      ]
     },
     "metadata": {
      "needs_background": "light"
     },
     "output_type": "display_data"
    }
   ],
   "source": [
    "\n",
    "plt.scatter(animal_distances, agent_distances, label='New linearly spaced values')\n",
    "plt.plot(categories[1:], logifunc(categories[1:], *popt), '-',label='Fitted function', alpha=.5)\n",
    "plt.xlabel('swapping thresholds')\n",
    "plt.ylabel('average distance between $A_{s}$ and $A_{0}$')\n",
    "plt.legend()"
   ]
  },
  {
   "cell_type": "code",
   "execution_count": 20,
   "metadata": {},
   "outputs": [
    {
     "data": {
      "text/plain": [
       "<matplotlib.legend.Legend at 0x7f9329dcaaf0>"
      ]
     },
     "execution_count": 20,
     "metadata": {},
     "output_type": "execute_result"
    },
    {
     "data": {
      "image/png": "[encoded data removed]",
      "text/plain": [
       "<Figure size 432x288 with 1 Axes>"
      ]
     },
     "metadata": {
      "needs_background": "light"
     },
     "output_type": "display_data"
    }
   ],
   "source": [
    "plt.scatter(range(21), [categories[1]] + list(agent_distances), label='Linearized distance')\n",
    "plt.legend()"
   ]
  },
  {
   "cell_type": "markdown",
   "metadata": {},
   "source": [
    "### Generate groups for equally spaced thresholds"
   ]
  },
  {
   "cell_type": "code",
   "execution_count": 21,
   "metadata": {},
   "outputs": [
    {
     "name": "stdout",
     "output_type": "stream",
     "text": [
      "Processing bin 1 of 20\n",
      "Processing bin 2 of 20\n",
      "Processing bin 3 of 20\n",
      "Processing bin 4 of 20\n",
      "Processing bin 5 of 20\n",
      "Processing bin 6 of 20\n",
      "Processing bin 7 of 20\n",
      "Processing bin 8 of 20\n",
      "Processing bin 9 of 20\n",
      "Processing bin 10 of 20\n",
      "Processing bin 11 of 20\n",
      "Processing bin 12 of 20\n",
      "Processing bin 13 of 20\n",
      "Processing bin 14 of 20\n",
      "Processing bin 15 of 20\n",
      "Processing bin 16 of 20\n",
      "Processing bin 17 of 20\n",
      "Processing bin 18 of 20\n",
      "Processing bin 19 of 20\n",
      "Processing bin 20 of 20\n",
      "Processing bin 21 of 20\n"
     ]
    }
   ],
   "source": [
    "import json \n",
    "\n",
    "noised_dists = []\n",
    "noised_vecs = []\n",
    "\n",
    "for b, x in enumerate([categories[1]] + list(animal_distances)): #\n",
    "    print(f'Processing bin {b+1} of {len(animal_distances)}')\n",
    "    bin_df = long_dists[(long_dists['distance'] <= x)]\n",
    "\n",
    "    for a_idx in range(agents_per_bin):\n",
    "        \n",
    "        subthr_pairs = list(bin_df.sample(frac=.7)[['animal_1',\n",
    "                                                    'animal_2']].to_records(index=False))\n",
    "        \n",
    "        idx_dict_copy = animals_idx_dict.copy()\n",
    "        for animal_1, animal_2 in subthr_pairs:\n",
    "            idx_1 = idx_dict_copy[animal_1]\n",
    "            idx_2 = idx_dict_copy[animal_2]\n",
    "            idx_dict_copy[animal_1] = idx_2\n",
    "            idx_dict_copy[animal_2] = idx_1\n",
    "        new_idx = dict(sorted(idx_dict_copy.items(), \n",
    "                              key=lambda item: item[1])).keys()\n",
    "        \n",
    "        # Save dictionary for originality calculations\n",
    "        fname = f'{space}_{b}_{a_idx}'\n",
    "        json.dump(idx_dict_copy, \n",
    "                  open(f'{model_path}/{date}/mappings/{fname}.json', 'w'))\n",
    "        \n",
    "        # Make and save vecs\n",
    "        agent_vec_df = pd.DataFrame(vecs_scaled.copy()) \n",
    "        agent_vec_df.index = new_idx\n",
    "        agent_vec_df = agent_vec_df.reindex(animals_idx_dict.keys()) # sorting\n",
    "        agent_vec_df.to_csv(f'{model_path}/{date}/noised_vectors/{fname}.tsv',\n",
    "                            sep='\\t')\n",
    "        noised_vecs.append((a_idx, b, agent_vec_df))\n",
    "\n",
    "        # Make and save distances\n",
    "        agent_dist = euclidean_distances(agent_vec_df.values, \n",
    "                                         agent_vec_df.values) / 400\n",
    "        agent_dist_df = pd.DataFrame(agent_dist.round(5))\n",
    "        agent_dist_df.index = agent_vec_df.index\n",
    "        agent_dist_df.columns = agent_dist_df.index\n",
    "        agent_dist_df.to_csv(f'{model_path}/{date}/noised_distance_matrices/{fname}.tsv',\n",
    "                             sep='\\t')\n",
    "        noised_dists.append((a_idx, b, agent_dist_df))"
   ]
  },
  {
   "cell_type": "markdown",
   "metadata": {},
   "source": [
    "### Sample pairs"
   ]
  },
  {
   "cell_type": "code",
   "execution_count": 22,
   "metadata": {},
   "outputs": [
    {
     "name": "stdout",
     "output_type": "stream",
     "text": [
      "Bin 0\n",
      "Bin 1\n",
      "Bin 2\n",
      "Bin 3\n",
      "Bin 4\n",
      "Bin 5\n",
      "Bin 6\n",
      "Bin 7\n",
      "Bin 8\n",
      "Bin 9\n",
      "Bin 10\n",
      "Bin 11\n",
      "Bin 12\n",
      "Bin 13\n",
      "Bin 14\n",
      "Bin 15\n",
      "Bin 16\n",
      "Bin 17\n",
      "Bin 18\n",
      "Bin 19\n",
      "Bin 20\n"
     ]
    }
   ],
   "source": [
    "pair_dists = {}\n",
    "for b in range(21):\n",
    "    print(f'Bin {b}')\n",
    "    ref_vecs = [nv for nv in noised_vecs if nv[1] == 0]\n",
    "    b_vecs = [nv for nv in noised_vecs if nv[1] == b]\n",
    "    b_combs = list(itertools.product(b_vecs, ref_vecs))\n",
    "    pool = Pool(processes=30)\n",
    "    b_dists = pool.map(_compute_distance, b_combs)\n",
    "    pair_dists[b] = b_dists\n",
    "    pool.close()"
   ]
  },
  {
   "cell_type": "code",
   "execution_count": 23,
   "metadata": {},
   "outputs": [
    {
     "name": "stdout",
     "output_type": "stream",
     "text": [
      "10000\n",
      "10000\n",
      "10000\n",
      "10000\n",
      "10000\n",
      "10000\n",
      "10000\n",
      "10000\n",
      "10000\n",
      "10000\n",
      "10000\n",
      "10000\n",
      "10000\n",
      "10000\n",
      "10000\n",
      "10000\n",
      "10000\n",
      "10000\n",
      "10000\n",
      "10000\n",
      "10000\n"
     ]
    }
   ],
   "source": [
    "dist_dfs = []\n",
    "for idx, k in enumerate(pair_dists.keys()):\n",
    "    pair_dist_df = pd.DataFrame(pair_dists[k], columns=['idx1', 'idx2', \n",
    "                                                        'noise_level1', 'noise_level2',\n",
    "                                                        'distance'])\n",
    "    for c in ['idx1', 'idx2', 'noise_level1', 'noise_level2']:\n",
    "        pair_dist_df[c] = pair_dist_df[c].astype(str)\n",
    "    print(pair_dist_df.shape[0])\n",
    "    dist_dfs.append(pair_dist_df)\n",
    "pairs_dist_df = pd.concat(dist_dfs, ignore_index=True)\n",
    "\n",
    "pairs_dist_df['fname_1'] = 'wiki_' + pairs_dist_df['noise_level1'] + '_' + pairs_dist_df['idx1'] + '.tsv'\n",
    "pairs_dist_df['fname_2'] = 'wiki_' + pairs_dist_df['noise_level2'] + '_' + pairs_dist_df['idx2'] + '.tsv'\n",
    "\n",
    "sampled_lst = []\n",
    "for idx, b in enumerate(range(21)):\n",
    "    b_sampled = pairs_dist_df[pairs_dist_df['noise_level1'] == str(b)].sample(n=agents_per_bin)\n",
    "    sampled_lst.append(b_sampled)\n",
    "sampled_all = pd.concat(sampled_lst, ignore_index=False)\n",
    "sampled_all.to_csv(f'{model_path}/{date}/sampled_pairs.tsv', sep='\\t')"
   ]
  },
  {
   "cell_type": "code",
   "execution_count": 24,
   "metadata": {},
   "outputs": [],
   "source": [
    "mdists = sampled_all.groupby('noise_level1').distance.mean().reset_index()"
   ]
  },
  {
   "cell_type": "code",
   "execution_count": 25,
   "metadata": {},
   "outputs": [
    {
     "data": {
      "text/html": [
       "<div>\n",
       "<style scoped>\n",
       "    .dataframe tbody tr th:only-of-type {\n",
       "        vertical-align: middle;\n",
       "    }\n",
       "\n",
       "    .dataframe tbody tr th {\n",
       "        vertical-align: top;\n",
       "    }\n",
       "\n",
       "    .dataframe thead th {\n",
       "        text-align: right;\n",
       "    }\n",
       "</style>\n",
       "<table border=\"1\" class=\"dataframe\">\n",
       "  <thead>\n",
       "    <tr style=\"text-align: right;\">\n",
       "      <th></th>\n",
       "      <th>mean</th>\n",
       "      <th>std</th>\n",
       "    </tr>\n",
       "    <tr>\n",
       "      <th>noise_level1</th>\n",
       "      <th></th>\n",
       "      <th></th>\n",
       "    </tr>\n",
       "  </thead>\n",
       "  <tbody>\n",
       "    <tr>\n",
       "      <th>0</th>\n",
       "      <td>0.121669</td>\n",
       "      <td>0.038453</td>\n",
       "    </tr>\n",
       "    <tr>\n",
       "      <th>1</th>\n",
       "      <td>0.184329</td>\n",
       "      <td>0.036603</td>\n",
       "    </tr>\n",
       "    <tr>\n",
       "      <th>10</th>\n",
       "      <td>2.444400</td>\n",
       "      <td>0.075750</td>\n",
       "    </tr>\n",
       "    <tr>\n",
       "      <th>11</th>\n",
       "      <td>2.701040</td>\n",
       "      <td>0.060386</td>\n",
       "    </tr>\n",
       "    <tr>\n",
       "      <th>12</th>\n",
       "      <td>2.944214</td>\n",
       "      <td>0.077392</td>\n",
       "    </tr>\n",
       "    <tr>\n",
       "      <th>13</th>\n",
       "      <td>3.215029</td>\n",
       "      <td>0.067886</td>\n",
       "    </tr>\n",
       "    <tr>\n",
       "      <th>14</th>\n",
       "      <td>3.534971</td>\n",
       "      <td>0.067904</td>\n",
       "    </tr>\n",
       "    <tr>\n",
       "      <th>15</th>\n",
       "      <td>3.790923</td>\n",
       "      <td>0.053336</td>\n",
       "    </tr>\n",
       "    <tr>\n",
       "      <th>16</th>\n",
       "      <td>4.097726</td>\n",
       "      <td>0.052497</td>\n",
       "    </tr>\n",
       "    <tr>\n",
       "      <th>17</th>\n",
       "      <td>4.365795</td>\n",
       "      <td>0.060782</td>\n",
       "    </tr>\n",
       "    <tr>\n",
       "      <th>18</th>\n",
       "      <td>4.608180</td>\n",
       "      <td>0.057908</td>\n",
       "    </tr>\n",
       "    <tr>\n",
       "      <th>19</th>\n",
       "      <td>4.838398</td>\n",
       "      <td>0.041753</td>\n",
       "    </tr>\n",
       "    <tr>\n",
       "      <th>2</th>\n",
       "      <td>0.509576</td>\n",
       "      <td>0.046900</td>\n",
       "    </tr>\n",
       "    <tr>\n",
       "      <th>20</th>\n",
       "      <td>5.071218</td>\n",
       "      <td>0.026089</td>\n",
       "    </tr>\n",
       "    <tr>\n",
       "      <th>3</th>\n",
       "      <td>0.858666</td>\n",
       "      <td>0.047684</td>\n",
       "    </tr>\n",
       "    <tr>\n",
       "      <th>4</th>\n",
       "      <td>1.000445</td>\n",
       "      <td>0.056690</td>\n",
       "    </tr>\n",
       "    <tr>\n",
       "      <th>5</th>\n",
       "      <td>1.192483</td>\n",
       "      <td>0.061507</td>\n",
       "    </tr>\n",
       "    <tr>\n",
       "      <th>6</th>\n",
       "      <td>1.519965</td>\n",
       "      <td>0.059672</td>\n",
       "    </tr>\n",
       "    <tr>\n",
       "      <th>7</th>\n",
       "      <td>1.765310</td>\n",
       "      <td>0.065774</td>\n",
       "    </tr>\n",
       "    <tr>\n",
       "      <th>8</th>\n",
       "      <td>1.965342</td>\n",
       "      <td>0.058538</td>\n",
       "    </tr>\n",
       "    <tr>\n",
       "      <th>9</th>\n",
       "      <td>2.192045</td>\n",
       "      <td>0.075702</td>\n",
       "    </tr>\n",
       "  </tbody>\n",
       "</table>\n",
       "</div>"
      ],
      "text/plain": [
       "                  mean       std\n",
       "noise_level1                    \n",
       "0             0.121669  0.038453\n",
       "1             0.184329  0.036603\n",
       "10            2.444400  0.075750\n",
       "11            2.701040  0.060386\n",
       "12            2.944214  0.077392\n",
       "13            3.215029  0.067886\n",
       "14            3.534971  0.067904\n",
       "15            3.790923  0.053336\n",
       "16            4.097726  0.052497\n",
       "17            4.365795  0.060782\n",
       "18            4.608180  0.057908\n",
       "19            4.838398  0.041753\n",
       "2             0.509576  0.046900\n",
       "20            5.071218  0.026089\n",
       "3             0.858666  0.047684\n",
       "4             1.000445  0.056690\n",
       "5             1.192483  0.061507\n",
       "6             1.519965  0.059672\n",
       "7             1.765310  0.065774\n",
       "8             1.965342  0.058538\n",
       "9             2.192045  0.075702"
      ]
     },
     "execution_count": 25,
     "metadata": {},
     "output_type": "execute_result"
    }
   ],
   "source": [
    "sampled_all.groupby('noise_level1').distance.aggregate(['mean', 'std'])"
   ]
  },
  {
   "cell_type": "code",
   "execution_count": 26,
   "metadata": {},
   "outputs": [
    {
     "data": {
      "image/png": "[encoded data removed]",
      "text/plain": [
       "<Figure size 432x288 with 1 Axes>"
      ]
     },
     "metadata": {
      "needs_background": "light"
     },
     "output_type": "display_data"
    }
   ],
   "source": [
    "sns.scatterplot(data=sampled_all, x='noise_level1', y='distance')\n",
    "plt.show()"
   ]
  },
  {
   "cell_type": "code",
   "execution_count": 27,
   "metadata": {},
   "outputs": [
    {
     "data": {
      "image/png": "[encoded data removed]",
      "text/plain": [
       "<Figure size 645.875x144 with 1 Axes>"
      ]
     },
     "metadata": {
      "needs_background": "light"
     },
     "output_type": "display_data"
    }
   ],
   "source": [
    "sns.displot(data=sampled_all, \n",
    "            hue='noise_level1', x='distance', palette='viridis', binwidth=0.025,\n",
    "            height=2, aspect=4)\n",
    "plt.show()"
   ]
  },
  {
   "cell_type": "code",
   "execution_count": 28,
   "metadata": {},
   "outputs": [],
   "source": [
    "mdists['noise_level1'] = mdists['noise_level1'].astype(int)\n",
    "with open(f\"diversity_abm/models/{date}/dist_mapping.json\", \"w\") as outfile:\n",
    "    json.dump(dict(zip(range(21), \n",
    "                       mdists.sort_values(by='noise_level1').distance.tolist())), \n",
    "              outfile)"
   ]
  },
  {
   "cell_type": "code",
   "execution_count": 29,
   "metadata": {},
   "outputs": [
    {
     "data": {
      "text/html": [
       "<div>\n",
       "<style scoped>\n",
       "    .dataframe tbody tr th:only-of-type {\n",
       "        vertical-align: middle;\n",
       "    }\n",
       "\n",
       "    .dataframe tbody tr th {\n",
       "        vertical-align: top;\n",
       "    }\n",
       "\n",
       "    .dataframe thead th {\n",
       "        text-align: right;\n",
       "    }\n",
       "</style>\n",
       "<table border=\"1\" class=\"dataframe\">\n",
       "  <thead>\n",
       "    <tr style=\"text-align: right;\">\n",
       "      <th></th>\n",
       "      <th>noise_level1</th>\n",
       "      <th>distance</th>\n",
       "    </tr>\n",
       "  </thead>\n",
       "  <tbody>\n",
       "    <tr>\n",
       "      <th>0</th>\n",
       "      <td>0</td>\n",
       "      <td>0.121669</td>\n",
       "    </tr>\n",
       "    <tr>\n",
       "      <th>1</th>\n",
       "      <td>1</td>\n",
       "      <td>0.184329</td>\n",
       "    </tr>\n",
       "    <tr>\n",
       "      <th>12</th>\n",
       "      <td>2</td>\n",
       "      <td>0.509576</td>\n",
       "    </tr>\n",
       "    <tr>\n",
       "      <th>14</th>\n",
       "      <td>3</td>\n",
       "      <td>0.858666</td>\n",
       "    </tr>\n",
       "    <tr>\n",
       "      <th>15</th>\n",
       "      <td>4</td>\n",
       "      <td>1.000445</td>\n",
       "    </tr>\n",
       "    <tr>\n",
       "      <th>16</th>\n",
       "      <td>5</td>\n",
       "      <td>1.192483</td>\n",
       "    </tr>\n",
       "    <tr>\n",
       "      <th>17</th>\n",
       "      <td>6</td>\n",
       "      <td>1.519965</td>\n",
       "    </tr>\n",
       "    <tr>\n",
       "      <th>18</th>\n",
       "      <td>7</td>\n",
       "      <td>1.765310</td>\n",
       "    </tr>\n",
       "    <tr>\n",
       "      <th>19</th>\n",
       "      <td>8</td>\n",
       "      <td>1.965342</td>\n",
       "    </tr>\n",
       "    <tr>\n",
       "      <th>20</th>\n",
       "      <td>9</td>\n",
       "      <td>2.192045</td>\n",
       "    </tr>\n",
       "    <tr>\n",
       "      <th>2</th>\n",
       "      <td>10</td>\n",
       "      <td>2.444400</td>\n",
       "    </tr>\n",
       "    <tr>\n",
       "      <th>3</th>\n",
       "      <td>11</td>\n",
       "      <td>2.701040</td>\n",
       "    </tr>\n",
       "    <tr>\n",
       "      <th>4</th>\n",
       "      <td>12</td>\n",
       "      <td>2.944214</td>\n",
       "    </tr>\n",
       "    <tr>\n",
       "      <th>5</th>\n",
       "      <td>13</td>\n",
       "      <td>3.215029</td>\n",
       "    </tr>\n",
       "    <tr>\n",
       "      <th>6</th>\n",
       "      <td>14</td>\n",
       "      <td>3.534971</td>\n",
       "    </tr>\n",
       "    <tr>\n",
       "      <th>7</th>\n",
       "      <td>15</td>\n",
       "      <td>3.790923</td>\n",
       "    </tr>\n",
       "    <tr>\n",
       "      <th>8</th>\n",
       "      <td>16</td>\n",
       "      <td>4.097726</td>\n",
       "    </tr>\n",
       "    <tr>\n",
       "      <th>9</th>\n",
       "      <td>17</td>\n",
       "      <td>4.365795</td>\n",
       "    </tr>\n",
       "    <tr>\n",
       "      <th>10</th>\n",
       "      <td>18</td>\n",
       "      <td>4.608180</td>\n",
       "    </tr>\n",
       "    <tr>\n",
       "      <th>11</th>\n",
       "      <td>19</td>\n",
       "      <td>4.838398</td>\n",
       "    </tr>\n",
       "    <tr>\n",
       "      <th>13</th>\n",
       "      <td>20</td>\n",
       "      <td>5.071218</td>\n",
       "    </tr>\n",
       "  </tbody>\n",
       "</table>\n",
       "</div>"
      ],
      "text/plain": [
       "    noise_level1  distance\n",
       "0              0  0.121669\n",
       "1              1  0.184329\n",
       "12             2  0.509576\n",
       "14             3  0.858666\n",
       "15             4  1.000445\n",
       "16             5  1.192483\n",
       "17             6  1.519965\n",
       "18             7  1.765310\n",
       "19             8  1.965342\n",
       "20             9  2.192045\n",
       "2             10  2.444400\n",
       "3             11  2.701040\n",
       "4             12  2.944214\n",
       "5             13  3.215029\n",
       "6             14  3.534971\n",
       "7             15  3.790923\n",
       "8             16  4.097726\n",
       "9             17  4.365795\n",
       "10            18  4.608180\n",
       "11            19  4.838398\n",
       "13            20  5.071218"
      ]
     },
     "execution_count": 29,
     "metadata": {},
     "output_type": "execute_result"
    }
   ],
   "source": [
    "mdists.sort_values(by='noise_level1')"
   ]
  },
  {
   "cell_type": "markdown",
   "metadata": {},
   "source": [
    "### Check distances ... "
   ]
  },
  {
   "cell_type": "code",
   "execution_count": 30,
   "metadata": {},
   "outputs": [],
   "source": [
    "import glob \n",
    "import pandas as pd\n",
    "import itertools\n",
    "\n",
    "fs = glob.glob(f'{model_path}/{date}/noised_distance_matrices/*.tsv')\n",
    "\n",
    "dfs = []\n",
    "for f in fs:\n",
    "    df = pd.read_csv(f, sep='\\t', index_col=0)\n",
    "    dfs.append((int(f.split('/')[-1].split('_')[-1].split('.')[0]), \n",
    "                int(f.split('/')[-1].split('_')[1]), \n",
    "                df))"
   ]
  },
  {
   "cell_type": "code",
   "execution_count": 31,
   "metadata": {},
   "outputs": [],
   "source": [
    "def _compute_distance(pair):\n",
    "    ''' Computes distance between pair of agents '''\n",
    "    distance = np.abs((pair[0][2] - pair[1][2]).values).ravel().sum() / 2\n",
    "    noise_level1 = pair[0][1]\n",
    "    noise_level2 = pair[1][1]\n",
    "    idx1 = pair[0][0]\n",
    "    idx2 = pair[1][0]\n",
    "    return (idx1, idx2,\n",
    "            noise_level1, noise_level2,\n",
    "            distance)"
   ]
  },
  {
   "cell_type": "code",
   "execution_count": 32,
   "metadata": {},
   "outputs": [
    {
     "name": "stdout",
     "output_type": "stream",
     "text": [
      "Bin 0\n"
     ]
    }
   ],
   "source": [
    "pair_dists = {}\n",
    "for b in range(0,1): # 21\n",
    "    print(f'Bin {b}')\n",
    "    ref_vecs = [nv for nv in noised_dists if nv[1] == 0] # dfs\n",
    "    b_vecs = [nv for nv in noised_dists if nv[1] == b]\n",
    "    b_combs = list(itertools.product(b_vecs, ref_vecs))\n",
    "    pool = Pool(processes=20)\n",
    "    b_dists = pool.map(_compute_distance, b_combs)\n",
    "    pair_dists[b] = b_dists\n",
    "    pool.close()"
   ]
  },
  {
   "cell_type": "code",
   "execution_count": 33,
   "metadata": {},
   "outputs": [],
   "source": [
    "dist_dfs = []\n",
    "for idx, k in enumerate(pair_dists.keys()):\n",
    "    pair_dist_df = pd.DataFrame(pair_dists[k], columns=['idx1', 'idx2', \n",
    "                                                        'noise_level1', 'noise_level2',\n",
    "                                                        'distance'])\n",
    "    for c in ['idx1', 'idx2', 'noise_level1', 'noise_level2']:\n",
    "        pair_dist_df[c] = pair_dist_df[c].astype(str)\n",
    "    dist_dfs.append(pair_dist_df)\n",
    "pairs_dist_df = pd.concat(dist_dfs, ignore_index=True)"
   ]
  },
  {
   "cell_type": "code",
   "execution_count": 202,
   "metadata": {},
   "outputs": [
    {
     "data": {
      "text/plain": [
       "1986"
      ]
     },
     "execution_count": 202,
     "metadata": {},
     "output_type": "execute_result"
    }
   ],
   "source": [
    "pairs_dist_df.distance.nunique()"
   ]
  },
  {
   "cell_type": "code",
   "execution_count": null,
   "metadata": {},
   "outputs": [],
   "source": []
  },
  {
   "cell_type": "code",
   "execution_count": null,
   "metadata": {},
   "outputs": [],
   "source": []
  }
 ],
 "metadata": {
  "interpreter": {
   "hash": "31f2aee4e71d21fbe5cf8b01ff0e069b9275f58929596ceb00d14d90e3e16cd6"
  },
  "kernelspec": {
   "display_name": "tw-langmod",
   "language": "python",
   "name": "python3"
  },
  "language_info": {
   "codemirror_mode": {
    "name": "ipython",
    "version": 3
   },
   "file_extension": ".py",
   "mimetype": "text/x-python",
   "name": "python",
   "nbconvert_exporter": "python",
   "pygments_lexer": "ipython3",
   "version": "3.9.2"
  },
  "metadata": {
   "interpreter": {
    "hash": "ba954e04f94d5e4970321c570fb05eff7c202d9f1ab5b8ba406812668fc94516"
   }
  }
 },
 "nbformat": 4,
 "nbformat_minor": 4
}
